{
 "cells": [
  {
   "cell_type": "code",
   "execution_count": 1262,
   "metadata": {},
   "outputs": [],
   "source": [
    "import pandas as pd\n",
    "import numpy as np\n",
    "from matplotlib import pyplot as plt"
   ]
  },
  {
   "cell_type": "code",
   "execution_count": 1264,
   "metadata": {},
   "outputs": [],
   "source": [
    "species_df = pd.read_csv('species_info.csv')\n",
    "o_df = pd.read_csv('observations.csv')"
   ]
  },
  {
   "cell_type": "code",
   "execution_count": 1266,
   "metadata": {},
   "outputs": [
    {
     "name": "stdout",
     "output_type": "stream",
     "text": [
      "            scientific_name                            park_name  observations\n",
      "0        Vicia benghalensis  Great Smoky Mountains National Park            68\n",
      "1            Neovison vison  Great Smoky Mountains National Park            77\n",
      "2         Prunus subcordata               Yosemite National Park           138\n",
      "3      Abutilon theophrasti                  Bryce National Park            84\n",
      "4  Githopsis specularioides  Great Smoky Mountains National Park            85\n",
      "  category                scientific_name  \\\n",
      "0   Mammal  Clethrionomys gapperi gapperi   \n",
      "1   Mammal                      Bos bison   \n",
      "2   Mammal                     Bos taurus   \n",
      "3   Mammal                     Ovis aries   \n",
      "4   Mammal                 Cervus elaphus   \n",
      "\n",
      "                                        common_names conservation_status  \n",
      "0                           Gapper's Red-Backed Vole                 NaN  \n",
      "1                              American Bison, Bison                 NaN  \n",
      "2  Aurochs, Aurochs, Domestic Cattle (Feral), Dom...                 NaN  \n",
      "3  Domestic Sheep, Mouflon, Red Sheep, Sheep (Feral)                 NaN  \n",
      "4                                      Wapiti Or Elk                 NaN  \n",
      "5633\n"
     ]
    }
   ],
   "source": [
    "print(o_df.head())\n",
    "status_nan_count = species_df['conservation_status'].isna().sum()\n",
    "print(species_df.head())\n",
    "print(status_nan_count)"
   ]
  },
  {
   "cell_type": "code",
   "execution_count": 1268,
   "metadata": {},
   "outputs": [
    {
     "name": "stdout",
     "output_type": "stream",
     "text": [
      "Index(['category', 'scientific_name', 'common_names', 'conservation_status'], dtype='object')\n"
     ]
    }
   ],
   "source": [
    "print(species_df.columns)\n",
    "#print(o_df.columns)\n",
    "#Drop rows that have nan in the values\n",
    "species_df.dropna(inplace=True)\n",
    "\n"
   ]
  },
  {
   "cell_type": "code",
   "execution_count": 1270,
   "metadata": {},
   "outputs": [
    {
     "name": "stdout",
     "output_type": "stream",
     "text": [
      "['Species of Concern' 'Endangered' 'Threatened' 'In Recovery']\n"
     ]
    }
   ],
   "source": [
    "#Prints the levels of conservation status\n",
    "levels = species_df.conservation_status.unique()\n",
    "print(levels)"
   ]
  },
  {
   "cell_type": "code",
   "execution_count": 1272,
   "metadata": {},
   "outputs": [
    {
     "name": "stdout",
     "output_type": "stream",
     "text": [
      "['Mammal' 'Bird' 'Reptile' 'Amphibian' 'Fish' 'Vascular Plant'\n",
      " 'Nonvascular Plant']\n"
     ]
    }
   ],
   "source": [
    "#Print all of the i=unique animal categories\n",
    "print(species_df['category'].unique())"
   ]
  },
  {
   "cell_type": "code",
   "execution_count": 1274,
   "metadata": {},
   "outputs": [
    {
     "name": "stdout",
     "output_type": "stream",
     "text": [
      "1\n",
      "4\n",
      "2\n",
      "0\n",
      "[1, 4, 2, 0]\n"
     ]
    }
   ],
   "source": [
    "#Find the values of all the amphibians\n",
    "\n",
    "am_end = ((species_df['conservation_status']=='Endangered') & (species_df['category']=='Amphibian')).sum()\n",
    "print(am_end)\n",
    "#am_endcount = len(am_end)\n",
    "am_soc = ((species_df['conservation_status']=='Species of Concern') & (species_df['category']=='Amphibian')).sum()\n",
    "print(am_soc)\n",
    "#am_soccount = len(am_soc)\n",
    "am_t = ((species_df['conservation_status']=='Threatened') & (species_df['category']=='Amphibian')).sum()\n",
    "print(am_t)\n",
    "am_ir = ((species_df['conservation_status']=='In Recovery') & (species_df['category']=='Amphibian')).sum()\n",
    "print(am_ir)\n",
    "#print(am_endcount, am_soccount, am_tcount, am_ircount)\n",
    "amphibian_list = [am_end, am_soc, am_t, am_ir]\n",
    "print(amphibian_list)"
   ]
  },
  {
   "cell_type": "code",
   "execution_count": 1276,
   "metadata": {},
   "outputs": [
    {
     "name": "stdout",
     "output_type": "stream",
     "text": [
      "[4, 72, 0, 3]\n"
     ]
    }
   ],
   "source": [
    "#Find values of the birds\n",
    "b_end = ((species_df['conservation_status']=='Endangered') & (species_df['category']=='Bird')).sum()\n",
    "\n",
    "#am_endcount = len(am_end)\n",
    "b_soc = ((species_df['conservation_status']=='Species of Concern') & (species_df['category']=='Bird')).sum()\n",
    "\n",
    "#am_soccount = len(am_soc)\n",
    "b_t = ((species_df['conservation_status']=='Threatened') & (species_df['category']=='Bird')).sum()\n",
    "\n",
    "b_ir = ((species_df['conservation_status']=='In Recovery') & (species_df['category']=='Bird')).sum()\n",
    "\n",
    "#print(am_endcount, am_soccount, am_tcount, am_ircount)\n",
    "bird_list = [b_end, b_soc, b_t, b_ir]\n",
    "print(bird_list)\n",
    "\n"
   ]
  },
  {
   "cell_type": "code",
   "execution_count": 1278,
   "metadata": {},
   "outputs": [
    {
     "name": "stdout",
     "output_type": "stream",
     "text": [
      "[3, 4, 4, 0]\n"
     ]
    }
   ],
   "source": [
    "#Find values for the fish\n",
    "f_s = ((species_df['conservation_status']=='Species of Concern') & (species_df['category']=='Fish')).sum()\n",
    "f_e = ((species_df['conservation_status']=='Endangered') & (species_df['category']=='Fish')).sum()\n",
    "f_t = ((species_df['conservation_status']=='Threatened') & (species_df['category']=='Fish')).sum()\n",
    "f_ir = ((species_df['conservation_status']=='In Recovery') & (species_df['category']=='Fish')).sum()\n",
    "fish_list = [f_e, f_s, f_t, f_ir]\n",
    "print(fish_list)"
   ]
  },
  {
   "cell_type": "code",
   "execution_count": 1280,
   "metadata": {},
   "outputs": [
    {
     "name": "stdout",
     "output_type": "stream",
     "text": [
      "[28, 7, 2, 1]\n"
     ]
    }
   ],
   "source": [
    "#Find values for mammals\n",
    "m_s = ((species_df['conservation_status']=='Species of Concern') & (species_df['category']=='Mammal')).sum()\n",
    "m_e = ((species_df['conservation_status']=='Endangered') & (species_df['category']=='Mammal')).sum()\n",
    "m_t = ((species_df['conservation_status']=='Threatened') & (species_df['category']=='Mammal')).sum()\n",
    "m_ir = ((species_df['conservation_status']=='In Recovery') & (species_df['category']=='Mammal')).sum()\n",
    "mammal_list = [m_s, m_e, m_t, m_ir]\n",
    "print(mammal_list)"
   ]
  },
  {
   "cell_type": "code",
   "execution_count": 1282,
   "metadata": {},
   "outputs": [
    {
     "name": "stdout",
     "output_type": "stream",
     "text": [
      "[5, 0, 0, 0]\n"
     ]
    }
   ],
   "source": [
    "#Find values for non vascular plants\n",
    "n_s = ((species_df['conservation_status']=='Species of Concern') & (species_df['category']=='Nonvascular Plant')).sum()\n",
    "n_e = ((species_df['conservation_status']=='Endangered') & (species_df['category']=='Nonvascular Plant')).sum()\n",
    "n_t = ((species_df['conservation_status']=='Threatened') & (species_df['category']=='Nonvascular Plant')).sum()\n",
    "n_ir = ((species_df['conservation_status']=='In Recovery') & (species_df['category']=='Nonvascular Plant')).sum()\n",
    "nvp_list = [n_s, n_e, n_t, n_ir]\n",
    "print(nvp_list)"
   ]
  },
  {
   "cell_type": "code",
   "execution_count": 1284,
   "metadata": {},
   "outputs": [
    {
     "name": "stdout",
     "output_type": "stream",
     "text": [
      "[5, 0, 0, 0]\n"
     ]
    }
   ],
   "source": [
    "#Find values for reptiles\n",
    "r_s = ((species_df['conservation_status']=='Species of Concern') & (species_df['category']=='Reptile')).sum()\n",
    "r_e = ((species_df['conservation_status']=='Endangered') & (species_df['category']=='Reptile')).sum()\n",
    "r_t = ((species_df['conservation_status']=='Threatened') & (species_df['category']=='Reptile')).sum()\n",
    "r_ir = ((species_df['conservation_status']=='In Recovery') & (species_df['category']=='Reptile')).sum()\n",
    "r_list = [r_s, r_e, r_t, r_ir]\n",
    "print(r_list)\n"
   ]
  },
  {
   "cell_type": "code",
   "execution_count": 1286,
   "metadata": {},
   "outputs": [
    {
     "name": "stdout",
     "output_type": "stream",
     "text": [
      "[43, 1, 2, 0]\n"
     ]
    }
   ],
   "source": [
    "#Find values for vascular plants\n",
    "v_s = ((species_df['conservation_status']=='Species of Concern') & (species_df['category']=='Vascular Plant')).sum()\n",
    "v_e = ((species_df['conservation_status']=='Endangered') & (species_df['category']=='Vascular Plant')).sum()\n",
    "v_t = ((species_df['conservation_status']=='Threatened') & (species_df['category']=='Vascular Plant')).sum()\n",
    "v_ir = ((species_df['conservation_status']=='In Recovery') & (species_df['category']=='Vascular Plant')).sum()\n",
    "v_list = [v_s, v_e, v_t, v_ir]\n",
    "print(v_list)\n"
   ]
  },
  {
   "cell_type": "code",
   "execution_count": 1288,
   "metadata": {},
   "outputs": [
    {
     "name": "stdout",
     "output_type": "stream",
     "text": [
      "[1, 4, 2, 0]\n",
      "[4, 72, 0, 3]\n",
      "[3, 4, 4, 0]\n",
      "[28, 7, 2, 1]\n",
      "[5, 0, 0, 0]\n",
      "[5, 0, 0, 0]\n",
      "[43, 1, 2, 0]\n",
      "['Species of Concern' 'Endangered' 'Threatened' 'In Recovery']\n"
     ]
    }
   ],
   "source": [
    "#All of the value counts we got for each type of animal or each conservation status\n",
    "print(amphibian_list)\n",
    "print(bird_list)\n",
    "print(fish_list)\n",
    "print(mammal_list)\n",
    "print(nvp_list)\n",
    "print(r_list)\n",
    "print(v_list)\n",
    "\n",
    "#All of the possible levels of conservation status\n",
    "print(levels)"
   ]
  },
  {
   "cell_type": "code",
   "execution_count": 1290,
   "metadata": {},
   "outputs": [
    {
     "data": {
      "image/png": "[encoded data removed]",
      "text/plain": [
       "<Figure size 640x480 with 1 Axes>"
      ]
     },
     "metadata": {},
     "output_type": "display_data"
    }
   ],
   "source": [
    "#Creating levels of our bar plot\n",
    "\n",
    "x = range(4)\n",
    "\n",
    "ab_bottom = np.add(amphibian_list, bird_list)\n",
    "fish_bottom = np.add(ab_bottom, fish_list)\n",
    "mammal_bottom = np.add(fish_bottom, mammal_list)\n",
    "nvp_bottom = np.add(mammal_bottom, nvp_list)\n",
    "r_bottom = np.add(nvp_bottom, r_list)\n",
    "\n",
    "\n",
    "#Creating out plot\n",
    "plt.bar(range(len(levels)), amphibian_list)\n",
    "plt.bar(range(len(levels)), bird_list, bottom=amphibian_list)\n",
    "plt.bar(range(len(levels)), fish_list, bottom=ab_bottom)\n",
    "plt.bar(range(len(levels)), mammal_list, bottom=fish_bottom)\n",
    "plt.bar(range(len(levels)), nvp_list, bottom=mammal_bottom)\n",
    "plt.bar(range(len(levels)), r_list, bottom=nvp_bottom)\n",
    "plt.bar(range(len(levels)), v_list, bottom=r_bottom)\n",
    "\n",
    "\n",
    "#Editing our plot\n",
    "ax = plt.subplot()\n",
    "ax.set_xticks(range(len(levels)))\n",
    "ax.set_xticklabels(levels)\n",
    "plt.title(\"Status of Animals\")\n",
    "plt.xlabel(\"Conservation Status\")\n",
    "plt.ylabel(\"Number of Species\")\n",
    "plt.legend(['Amphibian', 'Bird', 'Fish', 'Mammal', 'Non-Vascular Plant', 'Reptile', 'Vascular Plant'])\n",
    "plt.show()"
   ]
  },
  {
   "cell_type": "code",
   "execution_count": null,
   "metadata": {},
   "outputs": [],
   "source": []
  },
  {
   "cell_type": "code",
   "execution_count": null,
   "metadata": {},
   "outputs": [],
   "source": []
  }
 ],
 "metadata": {
  "kernelspec": {
   "display_name": "Python 3 (ipykernel)",
   "language": "python",
   "name": "python3"
  },
  "language_info": {
   "codemirror_mode": {
    "name": "ipython",
    "version": 3
   },
   "file_extension": ".py",
   "mimetype": "text/x-python",
   "name": "python",
   "nbconvert_exporter": "python",
   "pygments_lexer": "ipython3",
   "version": "3.12.7"
  }
 },
 "nbformat": 4,
 "nbformat_minor": 4
}
